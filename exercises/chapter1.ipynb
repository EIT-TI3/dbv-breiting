{
 "cells": [
  {
   "cell_type": "code",
   "execution_count": 2,
   "metadata": {},
   "outputs": [],
   "source": [
    "import numpy as np"
   ]
  },
  {
   "attachments": {},
   "cell_type": "markdown",
   "metadata": {},
   "source": [
    "### Homogeneous coordinates"
   ]
  },
  {
   "attachments": {},
   "cell_type": "markdown",
   "metadata": {},
   "source": [
    "#### Translation"
   ]
  },
  {
   "attachments": {},
   "cell_type": "markdown",
   "metadata": {},
   "source": [
    "##### Exercise 1.1\n",
    "A camera at world coordinates (20, 0, 10) takes a picture of a tree. The camera is not rotated with respect to the\n",
    "world system. The tree is located at camera coordinates (100, -2, 5). What are the inhomogeneous coordinates of the\n",
    "tree in the world frame? Use homogeneous coordinates."
   ]
  },
  {
   "cell_type": "code",
   "execution_count": 13,
   "metadata": {},
   "outputs": [],
   "source": [
    "p_c = np.array([100, -2, 5])\n",
    "p_w = np.array([10, 0, 10])\n",
    "\n",
    "p_c_ = np.append(p_c, 1)\n",
    "p_w_ = np.append(p_w, 1)"
   ]
  },
  {
   "attachments": {},
   "cell_type": "markdown",
   "metadata": {},
   "source": [
    "Transformation matrix from camera to world frame\n",
    "\n",
    "\n",
    "$T_c^w = \\begin{bmatrix}I & \\tau^w \\\\0 & 1\\end{bmatrix}=\\begin{bmatrix}1 & 0 & 0 & \\tau_1^w \\\\0 & 1 & 0 & \\tau_2^w \\\\ 0 & 0 & 1 & \\tau_3^w \\\\ 0 & 0 & 0 & 1\\end{bmatrix}$"
   ]
  },
  {
   "cell_type": "code",
   "execution_count": 14,
   "metadata": {},
   "outputs": [],
   "source": [
    "t_c_w = np.identity(4)\n",
    "t_c_w[:,-1] = p_w_"
   ]
  },
  {
   "attachments": {},
   "cell_type": "markdown",
   "metadata": {},
   "source": [
    "$\\widetilde{p}^w = T_c^w \\widetilde{p}^c$"
   ]
  },
  {
   "cell_type": "code",
   "execution_count": 21,
   "metadata": {},
   "outputs": [],
   "source": [
    "p_w_ = t_c_w @ p_c_"
   ]
  },
  {
   "attachments": {},
   "cell_type": "markdown",
   "metadata": {},
   "source": [
    "$p^w = \\begin{bmatrix} 120 \\\\ -2 \\\\ 15\\end{bmatrix}$"
   ]
  },
  {
   "attachments": {},
   "cell_type": "markdown",
   "metadata": {},
   "source": [
    "#### Rotation"
   ]
  },
  {
   "attachments": {},
   "cell_type": "markdown",
   "metadata": {},
   "source": [
    "##### Exercise 1.2"
   ]
  },
  {
   "cell_type": "markdown",
   "metadata": {},
   "source": []
  }
 ],
 "metadata": {
  "kernelspec": {
   "display_name": "Python 3",
   "language": "python",
   "name": "python3"
  },
  "language_info": {
   "codemirror_mode": {
    "name": "ipython",
    "version": 3
   },
   "file_extension": ".py",
   "mimetype": "text/x-python",
   "name": "python",
   "nbconvert_exporter": "python",
   "pygments_lexer": "ipython3",
   "version": "3.9.7"
  },
  "orig_nbformat": 4
 },
 "nbformat": 4,
 "nbformat_minor": 2
}
