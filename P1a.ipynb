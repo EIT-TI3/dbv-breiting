{
 "cells": [
  {
   "cell_type": "code",
   "execution_count": 1,
   "id": "291c0617",
   "metadata": {},
   "outputs": [],
   "source": [
    "#%matplotlib notebook\n",
    "import numpy as np\n",
    "import cv2\n",
    "import matplotlib.pyplot as plt\n",
    "import os"
   ]
  },
  {
   "cell_type": "markdown",
   "id": "30b09162",
   "metadata": {},
   "source": [
    "---\n",
    "#### P1a: Pointwise image transformations\n",
    "\n",
    "---\n",
    "<div class=\"alert alert-info\">\n",
    "<p>\n",
    "University of Applied Sciences Munich<br>\n",
    "Dept of Electrical Enineering and Information Technology<br>\n",
    "Institute for Applications of Machine Learning and Intelligent Systems (IAMLIS)<br>\n",
    "&emsp;&emsp;&emsp;&emsp;&emsp;&emsp;&emsp;&emsp;&emsp;&emsp;&emsp;&emsp;&emsp;&emsp;&emsp;&emsp;\n",
    "&emsp;&emsp;&emsp;&emsp;&emsp;&emsp;&emsp;&emsp;&emsp;&emsp;&emsp;&emsp;&emsp;&emsp;&emsp;&emsp;\n",
    "&emsp;&emsp;&emsp;&emsp;&emsp;&emsp;&emsp;&emsp;&emsp;&emsp;&emsp;&emsp;&emsp;&emsp;&emsp;&emsp;&emsp;&emsp;&emsp;&emsp;(c) Alfred Schöttl 2023<br>\n",
    "</p>\n",
    "</div>\n",
    "\n",
    "---\n",
    "In this notebook, we will implement pointwise image transformations to improve the quality of an image."
   ]
  },
  {
   "cell_type": "code",
   "execution_count": 2,
   "id": "a3fd34de",
   "metadata": {},
   "outputs": [],
   "source": [
    "fn = './imgs/boarddark.jpg'"
   ]
  },
  {
   "cell_type": "markdown",
   "id": "d79ad32e",
   "metadata": {},
   "source": [
    "### 1. Read in the file and convert the data type\n",
    "Read in the file from above in the variable `img`, do _not_ change the color format with this command. Then, change the data type from `uint8` (the pixel values are bytes in 0.255) to `float` (with values between 0..1)."
   ]
  },
  {
   "cell_type": "code",
   "execution_count": 3,
   "id": "67e87db7",
   "metadata": {
    "scrolled": false
   },
   "outputs": [],
   "source": [
    "img = cv2.imread(fn).astype(float) / 255.0\n"
   ]
  },
  {
   "cell_type": "markdown",
   "id": "a3b36203",
   "metadata": {},
   "source": [
    "### 2. Investigate the image\n",
    "Print the shape of the image `img` as well as the minimum and maximum values. Also display the image.\n",
    "\n",
    "_Remark_: Even though the image is an image with three color channels, it looks like a gray-scaled image since all three channels contain identical values."
   ]
  },
  {
   "cell_type": "code",
   "execution_count": 4,
   "id": "fb974f6f",
   "metadata": {},
   "outputs": [
    {
     "name": "stdout",
     "output_type": "stream",
     "text": [
      "(480, 640, 3) 0.3764705882352941 0.0\n"
     ]
    }
   ],
   "source": [
    "print(img.shape, img.max(), img.min())\n",
    "\n"
   ]
  },
  {
   "cell_type": "markdown",
   "id": "480ef1a6",
   "metadata": {},
   "source": [
    "### 3. Improve the image manually\n",
    "The image `img` is very dark. Use a pointwise transformation to improve the image and store the result in `img_mod`. _You do not need to program any loops, just use matrix operations_, try out:\n",
    "- multiplication with a constant: `img * const`\n",
    "- taking to the power: `img ** const`\n",
    "- adding a constant: `img + const`\n",
    "Clipping is done automatically (you will see it if you play with the operations from above). Plot the result.\n",
    "\n",
    "_Remark_: A warning is issued if you exceed the limits of the pixel values. If you want to explicitly clip and avoid the warning use `np.clip(img, lower_val, upper_val)`.\n"
   ]
  },
  {
   "cell_type": "code",
   "execution_count": 2,
   "id": "0f4db71b",
   "metadata": {},
   "outputs": [],
   "source": [
    "const = 2\n",
    "img_mod = np.clip((img * const), 0, 1)\n",
    "img_mod = np.clip((img + const), 0, 1)\n",
    "img_mod = np.clip((img ** const), 0, 1)\n",
    "\n"
   ]
  },
  {
   "cell_type": "markdown",
   "id": "ff0491f5",
   "metadata": {},
   "source": [
    "### 4. Adjust the brightness automatically\n",
    "Think up a method to adjust the brightness without having to choose parameters. Plot the result."
   ]
  },
  {
   "cell_type": "code",
   "execution_count": 3,
   "id": "6948c0b3",
   "metadata": {},
   "outputs": [],
   "source": [
    "img_mod = \n",
    "\n"
   ]
  }
 ],
 "metadata": {
  "kernelspec": {
   "display_name": "Python 3",
   "language": "python",
   "name": "python3"
  },
  "language_info": {
   "codemirror_mode": {
    "name": "ipython",
    "version": 3
   },
   "file_extension": ".py",
   "mimetype": "text/x-python",
   "name": "python",
   "nbconvert_exporter": "python",
   "pygments_lexer": "ipython3",
   "version": "3.10.10"
  },
  "vscode": {
   "interpreter": {
    "hash": "549d2eacff1a54ca97d3525d38a4e9726c7c5bf8f37dd3a3897854b4a3549b42"
   }
  }
 },
 "nbformat": 4,
 "nbformat_minor": 5
}
