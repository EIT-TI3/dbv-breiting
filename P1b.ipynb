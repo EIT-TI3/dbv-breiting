{
 "cells": [
  {
   "cell_type": "code",
   "execution_count": 2,
   "id": "5709af13",
   "metadata": {},
   "outputs": [],
   "source": [
    "#%matplotlib notebook\n",
    "import numpy as np\n",
    "import cv2\n",
    "import matplotlib.pyplot as plt\n",
    "import scipy.stats as st\n",
    "\n",
    "def gaussian_kernel(kernlen=21, sig=2.):\n",
    "    '''defines a Gaussian kernel matrix'''\n",
    "    x = np.linspace(-1., 1., kernlen+1)\n",
    "    kern1d = st.norm.pdf(sig*x)\n",
    "    kern2d = np.outer(kern1d, kern1d)              # outer product(x,y) = x @ y' , this is our trick for separable kernels\n",
    "    return kern2d/kern2d.sum()"
   ]
  },
  {
   "cell_type": "markdown",
   "id": "c7d12faa",
   "metadata": {},
   "source": [
    "---\n",
    "#### P1b: Window-based transforms, convolutions and kernels\n",
    "\n",
    "---\n",
    "<div class=\"alert alert-info\">\n",
    "<p>\n",
    "University of Applied Sciences Munich<br>\n",
    "Dept of Electrical Enineering and Information Technology<br>\n",
    "Institute for Applications of Machine Learning and Intelligent Systems (IAMLIS)<br>\n",
    "&emsp;&emsp;&emsp;&emsp;&emsp;&emsp;&emsp;&emsp;&emsp;&emsp;&emsp;&emsp;&emsp;&emsp;&emsp;&emsp;\n",
    "&emsp;&emsp;&emsp;&emsp;&emsp;&emsp;&emsp;&emsp;&emsp;&emsp;&emsp;&emsp;&emsp;&emsp;&emsp;&emsp;\n",
    "&emsp;&emsp;&emsp;&emsp;&emsp;&emsp;&emsp;&emsp;&emsp;&emsp;&emsp;&emsp;&emsp;&emsp;&emsp;&emsp;&emsp;&emsp;&emsp;&emsp;(c) Alfred Schöttl 2023<br>\n",
    "</p>\n",
    "</div>\n",
    "\n",
    "---\n",
    "In this notebook, we will investigate convolutions and use them to sharpen to an image (by a so-called unsharp mask)."
   ]
  },
  {
   "cell_type": "code",
   "execution_count": 6,
   "id": "0d567f84",
   "metadata": {},
   "outputs": [],
   "source": [
    "fn = './imgs/poppiesgray.jpg'"
   ]
  },
  {
   "cell_type": "markdown",
   "id": "f533b5dd",
   "metadata": {},
   "source": [
    "### 1. Read the image\n",
    "Read in the image `img` as gray-scale image (use the option `cv2.IMREAD_GRAYSCALE`), rescale it to 0..1 and plot the result. You should see a slightly blurred image of a meadow."
   ]
  },
  {
   "cell_type": "code",
   "execution_count": null,
   "id": "2d6421d9",
   "metadata": {},
   "outputs": [],
   "source": [
    "img = \n",
    "\n",
    "\n"
   ]
  },
  {
   "cell_type": "markdown",
   "id": "c7f5f36c",
   "metadata": {},
   "source": [
    "### 2. Blur the image\n",
    "Start by defining a kernel for the linear filter. Let `kernel_size` be the width and height of the kernel. \n",
    "\n",
    "- Construct a kernel `kernel` with with equal entries first. Use `np.ones((kernel_size, kernel_size))` to create a matrix of ones. Print the values of the kernel.\n",
    "\n",
    "- There is a function `gaussian_kernel` already defined for you. Try to understand its arguments by experimenting with it and printing out the the kernel values."
   ]
  },
  {
   "cell_type": "code",
   "execution_count": 12,
   "id": "6e597629",
   "metadata": {},
   "outputs": [],
   "source": [
    "kernel_size = 5\n",
    "kernel = \n",
    "\n",
    "\n"
   ]
  },
  {
   "cell_type": "markdown",
   "id": "1ef45b44",
   "metadata": {},
   "source": [
    "Now use the OpenCV function `cv2.filter2D(img, -1, kernel)` to perform the convolution. Store the result in `img_mod` and display the result. Check if you obtained an image which is even more blurred.\n",
    "\n",
    "Play with various kernel sizes and different kernel types.\n",
    "\n",
    "_Remark_: The -1 in `filter2D` stands for: the result of the filtering has the same number of channels as the input."
   ]
  },
  {
   "cell_type": "code",
   "execution_count": 13,
   "id": "20805e9b",
   "metadata": {},
   "outputs": [],
   "source": [
    "img_mod =\n"
   ]
  },
  {
   "cell_type": "markdown",
   "id": "027ae6d3",
   "metadata": {},
   "source": [
    "### 3. Sharpen the image\n",
    "A nice possibility to slightly sharpen an image is to apply an _unsharp mask_ (but don't expect too much!). The first step is to extract edges by considering the difference between the original image and the blurred image. Take the absolute value (use `np.abs`) of the image difference and scale it appropriately (multiply it by a constant) so that you can see the edges clearly. Clip the result to 0..1 and store it in the image `edges`."
   ]
  },
  {
   "cell_type": "code",
   "execution_count": 15,
   "id": "e1937f52",
   "metadata": {},
   "outputs": [],
   "source": [
    "edges = \n"
   ]
  },
  {
   "cell_type": "markdown",
   "id": "a96ea726",
   "metadata": {},
   "source": [
    "Now combine the edges and the original image linearly, play with different factors and kernel sizes. Store the result in `res`. The resulting image should look a little sharper than the original (not only the blurred!) one.\n",
    "\n",
    "_Tip:_ You may enlarge a Jupyter matplotlib plot by `plt.subplots(figsize=(18,12))` in front of `imshow` to see the details."
   ]
  },
  {
   "cell_type": "code",
   "execution_count": 17,
   "id": "90b75827",
   "metadata": {},
   "outputs": [],
   "source": [
    "res = \n",
    "res = np.clip(res, 0, 1)\n",
    "plt.subplots(figsize=(18,12))\n"
   ]
  }
 ],
 "metadata": {
  "kernelspec": {
   "display_name": "torch",
   "language": "python",
   "name": "torch"
  },
  "language_info": {
   "codemirror_mode": {
    "name": "ipython",
    "version": 3
   },
   "file_extension": ".py",
   "mimetype": "text/x-python",
   "name": "python",
   "nbconvert_exporter": "python",
   "pygments_lexer": "ipython3",
   "version": "3.9.13"
  }
 },
 "nbformat": 4,
 "nbformat_minor": 5
}
